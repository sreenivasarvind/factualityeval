{
 "cells": [
  {
   "attachments": {},
   "cell_type": "markdown",
   "metadata": {},
   "source": [
    "Store claims in the format Headline,Body ID and pass to cell below. Output: file for test claims"
   ]
  },
  {
   "cell_type": "code",
   "execution_count": 3,
   "metadata": {},
   "outputs": [],
   "source": [
    "import json\n",
    "with open('../test_claims.json') as json_file:\n",
    "    test_claims = json.load(json_file)"
   ]
  },
  {
   "cell_type": "code",
   "execution_count": 11,
   "metadata": {},
   "outputs": [],
   "source": [
    "import pandas as pd\n",
    "import json\n",
    "with open('../test_claims.json') as json_file:\n",
    "    test_claims = json.load(json_file)\n",
    "df = pd.DataFrame(columns=[\"Headline\",\"Body ID\"])\n",
    "for doc in test_claims:\n",
    "    df.loc[len(df.index)] = [doc['claim'], doc[\"doc_ids\"][0]] \n",
    "\n",
    "df.to_csv(\"test_claims.csv\" ,index=None)"
   ]
  },
  {
   "cell_type": "code",
   "execution_count": 15,
   "metadata": {},
   "outputs": [],
   "source": [
    "ids =[]\n",
    "for claim in test_claims:\n",
    "    ids.append(claim['id'])\n",
    "with open('../corpus.json') as json_file:\n",
    "    corpus = json.load(json_file)\n",
    "\n",
    "test_body =[]\n",
    "for val in corpus:\n",
    "    if val['doc_id'] in ids:\n",
    "        test_body.append(val)\n",
    "\n",
    "df1 = pd.DataFrame(columns=[\"Body ID\",\"articleBody\"])\n",
    "for doc in test_body:\n",
    "    df1.loc[len(df1.index)] = [doc['doc_id'], ''.join(doc['abstract'])] \n",
    "\n",
    "df1.to_csv(\"test_body.csv\" ,index=None)"
   ]
  }
 ],
 "metadata": {
  "kernelspec": {
   "display_name": "Code",
   "language": "python",
   "name": "python3"
  },
  "language_info": {
   "codemirror_mode": {
    "name": "ipython",
    "version": 3
   },
   "file_extension": ".py",
   "mimetype": "text/x-python",
   "name": "python",
   "nbconvert_exporter": "python",
   "pygments_lexer": "ipython3",
   "version": "3.10.0"
  },
  "orig_nbformat": 4
 },
 "nbformat": 4,
 "nbformat_minor": 2
}
