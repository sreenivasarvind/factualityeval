{
 "cells": [
  {
   "attachments": {},
   "cell_type": "markdown",
   "metadata": {},
   "source": [
    "Headline,Body ID\n",
    "Ferguson riots: Pregnant woman loses eye after cops fire BEAN BAG round through car window,2008"
   ]
  },
  {
   "cell_type": "code",
   "execution_count": 3,
   "metadata": {},
   "outputs": [],
   "source": [
    "import json\n",
    "with open('../test_claims.json') as json_file:\n",
    "    test_claims = json.load(json_file)"
   ]
  },
  {
   "cell_type": "code",
   "execution_count": 11,
   "metadata": {},
   "outputs": [],
   "source": [
    "import pandas as pd\n",
    "df = pd.DataFrame(columns=[\"Headline\",\"Body ID\"])\n",
    "for doc in test_claims:\n",
    "    df.loc[len(df.index)] = [doc['claim'], doc[\"doc_ids\"][0]] "
   ]
  },
  {
   "cell_type": "code",
   "execution_count": 14,
   "metadata": {},
   "outputs": [],
   "source": [
    "df.to_csv(\"test_claims.csv\" ,index=None)"
   ]
  },
  {
   "cell_type": "code",
   "execution_count": null,
   "metadata": {},
   "outputs": [],
   "source": [
    "Body ID,articleBody"
   ]
  },
  {
   "cell_type": "code",
   "execution_count": 15,
   "metadata": {},
   "outputs": [],
   "source": [
    "ids =[]\n",
    "for claim in test_claims:\n",
    "    ids.append(claim['id'])"
   ]
  },
  {
   "cell_type": "code",
   "execution_count": 17,
   "metadata": {},
   "outputs": [],
   "source": [
    "import json\n",
    "with open('../corpus.json') as json_file:\n",
    "    corpus = json.load(json_file)"
   ]
  },
  {
   "cell_type": "code",
   "execution_count": 19,
   "metadata": {},
   "outputs": [],
   "source": [
    "test_body =[]\n",
    "for val in corpus:\n",
    "    if val['doc_id'] in ids:\n",
    "        test_body.append(val)"
   ]
  },
  {
   "cell_type": "code",
   "execution_count": 26,
   "metadata": {},
   "outputs": [],
   "source": [
    "import pandas as pd\n",
    "df1 = pd.DataFrame(columns=[\"Body ID\",\"articleBody\"])\n",
    "for doc in test_body:\n",
    "    df1.loc[len(df1.index)] = [doc['doc_id'], ''.join(doc['abstract'])] "
   ]
  },
  {
   "cell_type": "code",
   "execution_count": 27,
   "metadata": {},
   "outputs": [
    {
     "data": {
      "text/html": [
       "<div>\n",
       "<style scoped>\n",
       "    .dataframe tbody tr th:only-of-type {\n",
       "        vertical-align: middle;\n",
       "    }\n",
       "\n",
       "    .dataframe tbody tr th {\n",
       "        vertical-align: top;\n",
       "    }\n",
       "\n",
       "    .dataframe thead th {\n",
       "        text-align: right;\n",
       "    }\n",
       "</style>\n",
       "<table border=\"1\" class=\"dataframe\">\n",
       "  <thead>\n",
       "    <tr style=\"text-align: right;\">\n",
       "      <th></th>\n",
       "      <th>Body ID</th>\n",
       "      <th>articleBody</th>\n",
       "    </tr>\n",
       "  </thead>\n",
       "  <tbody>\n",
       "    <tr>\n",
       "      <th>0</th>\n",
       "      <td>11</td>\n",
       "      <td>TITLE  Recent Trends in Cost-Related Medicatio...</td>\n",
       "    </tr>\n",
       "    <tr>\n",
       "      <th>1</th>\n",
       "      <td>18</td>\n",
       "      <td>TITLE  Adult SVZ stem cells lie in a vascular ...</td>\n",
       "    </tr>\n",
       "    <tr>\n",
       "      <th>2</th>\n",
       "      <td>22</td>\n",
       "      <td>TITLE  Informed citizen and empowered citizen ...</td>\n",
       "    </tr>\n",
       "    <tr>\n",
       "      <th>3</th>\n",
       "      <td>46</td>\n",
       "      <td>TITLE  Radiosynthesis and biological evaluatio...</td>\n",
       "    </tr>\n",
       "    <tr>\n",
       "      <th>4</th>\n",
       "      <td>47</td>\n",
       "      <td>TITLE  Selective sigma-2 ligands preferentiall...</td>\n",
       "    </tr>\n",
       "    <tr>\n",
       "      <th>...</th>\n",
       "      <td>...</td>\n",
       "      <td>...</td>\n",
       "    </tr>\n",
       "    <tr>\n",
       "      <th>1342</th>\n",
       "      <td>13430</td>\n",
       "      <td>==== FrontPLoS OnePLoS ONEplosplosonePLoS ONE1...</td>\n",
       "    </tr>\n",
       "    <tr>\n",
       "      <th>1343</th>\n",
       "      <td>13436</td>\n",
       "      <td>==== FrontPLoS OnePLoS ONEplosplosonePLoS ONE1...</td>\n",
       "    </tr>\n",
       "    <tr>\n",
       "      <th>1344</th>\n",
       "      <td>13444</td>\n",
       "      <td>==== FrontPLoS MedPLoS MedPLoSplosmedPLoS Medi...</td>\n",
       "    </tr>\n",
       "    <tr>\n",
       "      <th>1345</th>\n",
       "      <td>13451</td>\n",
       "      <td>==== FrontInt J Mol SciInt J Mol SciijmsIntern...</td>\n",
       "    </tr>\n",
       "    <tr>\n",
       "      <th>1346</th>\n",
       "      <td>13458</td>\n",
       "      <td>==== FrontChemphyschemChemphyschemcphcChemphys...</td>\n",
       "    </tr>\n",
       "  </tbody>\n",
       "</table>\n",
       "<p>1347 rows × 2 columns</p>\n",
       "</div>"
      ],
      "text/plain": [
       "      Body ID                                        articleBody\n",
       "0          11  TITLE  Recent Trends in Cost-Related Medicatio...\n",
       "1          18  TITLE  Adult SVZ stem cells lie in a vascular ...\n",
       "2          22  TITLE  Informed citizen and empowered citizen ...\n",
       "3          46  TITLE  Radiosynthesis and biological evaluatio...\n",
       "4          47  TITLE  Selective sigma-2 ligands preferentiall...\n",
       "...       ...                                                ...\n",
       "1342    13430  ==== FrontPLoS OnePLoS ONEplosplosonePLoS ONE1...\n",
       "1343    13436  ==== FrontPLoS OnePLoS ONEplosplosonePLoS ONE1...\n",
       "1344    13444  ==== FrontPLoS MedPLoS MedPLoSplosmedPLoS Medi...\n",
       "1345    13451  ==== FrontInt J Mol SciInt J Mol SciijmsIntern...\n",
       "1346    13458  ==== FrontChemphyschemChemphyschemcphcChemphys...\n",
       "\n",
       "[1347 rows x 2 columns]"
      ]
     },
     "execution_count": 27,
     "metadata": {},
     "output_type": "execute_result"
    }
   ],
   "source": [
    "df1"
   ]
  },
  {
   "cell_type": "code",
   "execution_count": 28,
   "metadata": {},
   "outputs": [],
   "source": [
    "df1.to_csv(\"test_body.csv\" ,index=None)"
   ]
  },
  {
   "cell_type": "code",
   "execution_count": null,
   "metadata": {},
   "outputs": [],
   "source": []
  }
 ],
 "metadata": {
  "kernelspec": {
   "display_name": "Code",
   "language": "python",
   "name": "python3"
  },
  "language_info": {
   "codemirror_mode": {
    "name": "ipython",
    "version": 3
   },
   "file_extension": ".py",
   "mimetype": "text/x-python",
   "name": "python",
   "nbconvert_exporter": "python",
   "pygments_lexer": "ipython3",
   "version": "3.10.0"
  },
  "orig_nbformat": 4
 },
 "nbformat": 4,
 "nbformat_minor": 2
}
