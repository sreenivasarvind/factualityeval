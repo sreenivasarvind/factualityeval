{
 "cells": [
  {
   "cell_type": "code",
   "execution_count": 1,
   "metadata": {},
   "outputs": [],
   "source": [
    "import json\n",
    "with open('positives.json') as json_file:\n",
    "    positives = json.load(json_file)\n",
    "with open('negatives.json') as json_file:\n",
    "    negatives = json.load(json_file)"
   ]
  },
  {
   "attachments": {},
   "cell_type": "markdown",
   "metadata": {},
   "source": [
    "Corpus"
   ]
  },
  {
   "cell_type": "code",
   "execution_count": 43,
   "metadata": {},
   "outputs": [],
   "source": [
    "doc_id = 1\n",
    "corpus =[]\n",
    "#Positives\n",
    "for citation in list(positives.keys()):\n",
    "    title = positives[citation].split(\"\\n\")[1]\n",
    "    sentences = positives[citation].replace(\"\\n\",\".\").split(\".\")\n",
    "    corpus.append({\"doc_id\":doc_id, \"title\":title, \"abstract\":sentences,\"structured\":False})\n",
    "    doc_id+= 1"
   ]
  },
  {
   "cell_type": "code",
   "execution_count": 44,
   "metadata": {},
   "outputs": [],
   "source": [
    "#Negatives\n",
    "for citation in list(negatives.keys()):\n",
    "    title = negatives[citation].split(\"\\n\")[1]\n",
    "    sentences = negatives[citation].replace(\"\\n\",\".\").split(\".\")\n",
    "    corpus.append({\"doc_id\":doc_id, \"title\":title, \"abstract\":sentences,\"structured\":False})\n",
    "    doc_id+= 1"
   ]
  },
  {
   "cell_type": "code",
   "execution_count": 71,
   "metadata": {},
   "outputs": [],
   "source": [
    "import json\n",
    "with open('kgat_corpus.json', 'w') as fp:\n",
    "    fp.write(\n",
    "        '\\n'.join(json.dumps(i) for i in corpus))"
   ]
  },
  {
   "attachments": {},
   "cell_type": "markdown",
   "metadata": {},
   "source": [
    "Claims"
   ]
  },
  {
   "cell_type": "code",
   "execution_count": 67,
   "metadata": {},
   "outputs": [],
   "source": [
    "with open('test_claims.json') as json_file:\n",
    "    test_claims = json.load(json_file)\n",
    "with open('train_claims.json') as json_file:\n",
    "    train_claims = json.load(json_file)\n",
    "with open('dev_claims.json') as json_file:\n",
    "    dev_claims = json.load(json_file)"
   ]
  },
  {
   "cell_type": "code",
   "execution_count": 68,
   "metadata": {},
   "outputs": [],
   "source": [
    "kgat_test_claims =[]\n",
    "kgat_train_claims = []\n",
    "kgat_dev_claims = []\n",
    "for val in test_claims:\n",
    "    kgat_test_claims.append({\"id\":val[\"id\"],\"claim\":val[\"claim\"]})\n",
    "for val in train_claims:\n",
    "    kgat_train_claims.append({\"id\":val[\"id\"],\"claim\":val[\"claim\"]})\n",
    "for val in dev_claims:\n",
    "    kgat_dev_claims.append({\"id\":val[\"id\"],\"claim\":val[\"claim\"]})"
   ]
  },
  {
   "cell_type": "code",
   "execution_count": 79,
   "metadata": {},
   "outputs": [],
   "source": [
    "import json\n",
    "with open('kgat_test_claims.json', 'w') as fp:\n",
    "    fp.write('\\n'.join(json.dumps(i) for i in new_test_claims))\n",
    "# with open('kgat_train_claims.json', 'w') as fp:\n",
    "#     fp.write('\\n'.join(json.dumps(i) for i in kgat_train_claims))\n",
    "# with open('kgat_dev_claims.json', 'w') as fp:\n",
    "#     fp.write('\\n'.join(json.dumps(i) for i in new_dev_claims))"
   ]
  },
  {
   "cell_type": "code",
   "execution_count": 77,
   "metadata": {},
   "outputs": [],
   "source": [
    "new_test_claims =[]\n",
    "for claim in dev_claims:\n",
    "    new_test_claims.append({\"id\":claim['id'],\"claim\":claim['claim'],\"evidence\":{},\"cited_doc_ids\":[claim['doc_ids']]})"
   ]
  }
 ],
 "metadata": {
  "kernelspec": {
   "display_name": "Code",
   "language": "python",
   "name": "python3"
  },
  "language_info": {
   "codemirror_mode": {
    "name": "ipython",
    "version": 3
   },
   "file_extension": ".py",
   "mimetype": "text/x-python",
   "name": "python",
   "nbconvert_exporter": "python",
   "pygments_lexer": "ipython3",
   "version": "3.10.0"
  },
  "orig_nbformat": 4
 },
 "nbformat": 4,
 "nbformat_minor": 2
}
