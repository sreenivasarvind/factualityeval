{
 "cells": [
  {
   "attachments": {},
   "cell_type": "markdown",
   "metadata": {},
   "source": [
    "Generating Negative Values based on BM25 ranking"
   ]
  },
  {
   "cell_type": "code",
   "execution_count": null,
   "metadata": {},
   "outputs": [],
   "source": [
    "import os\n",
    "corpus =[]\n",
    "files = os.listdir(\"Dataset/Data/PMC003xxxxxx/\")\n",
    "for file in files[-20000:]:\n",
    "    path = \"Dataset/Data/PMC003xxxxxx/\"+file\n",
    "    st = open(path, \"r\",encoding=\"utf8\", errors='ignore').read()\n",
    "    corpus.append(st)"
   ]
  },
  {
   "cell_type": "code",
   "execution_count": null,
   "metadata": {},
   "outputs": [],
   "source": [
    "from rank_bm25 import BM25Okapi\n",
    "tokenized_corpus = [doc.split(\" \") for doc in corpus]\n",
    "bm25 = BM25Okapi(tokenized_corpus)\n",
    "\n",
    "import json\n",
    "with open('negatives.json') as json_file:\n",
    "    negatives = json.load(json_file)"
   ]
  },
  {
   "cell_type": "code",
   "execution_count": 6,
   "metadata": {},
   "outputs": [],
   "source": [
    "queries = list(negatives.keys())\n",
    "new_negs = {}\n",
    "for query in queries[int(len(queries)/2):]:\n",
    "    tokenized_query = query.split(\" \")\n",
    "    # doc_scores = bm25.get_scores(tokenized_query)\n",
    "    doc = bm25.get_top_n(tokenized_query,corpus,1000)[999]\n",
    "    new_negs.update({query:doc})"
   ]
  },
  {
   "cell_type": "code",
   "execution_count": 16,
   "metadata": {},
   "outputs": [],
   "source": [
    "final_negs = {}\n",
    "for citation in list(negatives.keys())[:3366]:\n",
    "    final_negs.update({citation:negatives[citation]})\n",
    "\n",
    "final_negs.update(new_negs)\n",
    "query = queries[int(len(queries)/2)]\n",
    "tokenized_query = query.split(\" \")\n",
    "doc_scores = bm25.get_scores(tokenized_query)\n",
    "\n",
    "doc_scores.sort()\n",
    "\n",
    "with open(\"final_negs.json\", \"w\") as outfile:\n",
    "    json.dump(final_negs, outfile)\n"
   ]
  }
 ],
 "metadata": {
  "kernelspec": {
   "display_name": "Python 3 (ipykernel)",
   "language": "python",
   "name": "python3"
  },
  "language_info": {
   "codemirror_mode": {
    "name": "ipython",
    "version": 3
   },
   "file_extension": ".py",
   "mimetype": "text/x-python",
   "name": "python",
   "nbconvert_exporter": "python",
   "pygments_lexer": "ipython3",
   "version": "3.9.7"
  }
 },
 "nbformat": 4,
 "nbformat_minor": 4
}
