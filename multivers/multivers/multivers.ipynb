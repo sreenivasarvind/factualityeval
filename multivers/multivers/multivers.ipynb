{
 "cells": [
  {
   "attachments": {},
   "cell_type": "markdown",
   "metadata": {},
   "source": [
    "Setup Data\n"
   ]
  },
  {
   "cell_type": "code",
   "execution_count": 1,
   "metadata": {},
   "outputs": [
    {
     "name": "stderr",
     "output_type": "stream",
     "text": [
      "[nltk_data] Downloading package punkt to\n",
      "[nltk_data]     /Users/arvindsreenivas/nltk_data...\n",
      "[nltk_data]   Package punkt is already up-to-date!\n"
     ]
    }
   ],
   "source": [
    "import nltk \n",
    "nltk.download('punkt')\n",
    "from nltk.tokenize import sent_tokenize"
   ]
  },
  {
   "cell_type": "code",
   "execution_count": 2,
   "metadata": {},
   "outputs": [],
   "source": [
    "\n",
    "import json\n",
    "with open('positives.json') as json_file:\n",
    "    positives = json.load(json_file)\n",
    "with open('negatives.json') as json_file:\n",
    "    negatives = json.load(json_file)"
   ]
  },
  {
   "cell_type": "code",
   "execution_count": 3,
   "metadata": {},
   "outputs": [],
   "source": [
    "number = 1\n",
    "final = []\n",
    "for citation in list(positives.keys()):\n",
    "    title = positives[citation].split(\"\\n\")[1]\n",
    "    final.append({\"doc_id\":number, \"title\":title, \"abstract\":positives[citation].replace(\"\\n\",\".\").split(\".\")})\n",
    "    number += 1"
   ]
  },
  {
   "cell_type": "code",
   "execution_count": 4,
   "metadata": {},
   "outputs": [],
   "source": [
    "# number = 3030\n",
    "# final_negatives = []\n",
    "for citation in list(negatives.keys()):\n",
    "    title = negatives[citation].split(\"\\n\")[1]\n",
    "    final.append({\"doc_id\":number, \"title\":title, \"abstract\":negatives[citation].replace(\"\\n\",\".\").split(\".\")})\n",
    "    number += 1"
   ]
  },
  {
   "cell_type": "code",
   "execution_count": 18,
   "metadata": {},
   "outputs": [],
   "source": [
    "with open(\"corpus.json\", \"w\") as outfile:\n",
    "    json.dump(final, outfile)"
   ]
  },
  {
   "cell_type": "code",
   "execution_count": 5,
   "metadata": {},
   "outputs": [],
   "source": [
    "#Positive Claims\n",
    "claim_id = 1\n",
    "pos_claims = []\n",
    "for citation in list(positives.keys()):\n",
    "    sentences= nltk.sent_tokenize(positives[citation].replace(\"\\n\",\".\"))\n",
    "    length= len(sentences)\n",
    "    pos_claims.append({\"id\":claim_id, \"claim\":citation, \"doc_ids\":[claim_id], \"evidence\":{claim_id:[{\"label\":\"SUPPORT\", \"sentences\":[length]}]}})\n",
    "    claim_id += 1"
   ]
  },
  {
   "cell_type": "code",
   "execution_count": 7,
   "metadata": {},
   "outputs": [],
   "source": [
    "#Negative Claims\n",
    "neg_claims = []\n",
    "for citation in list(negatives.keys()):\n",
    "    sentences= nltk.sent_tokenize(negatives[citation].replace(\"\\n\",\".\"))\n",
    "    length= len(sentences)\n",
    "    neg_claims.append({\"id\":claim_id, \"claim\":citation, \"doc_ids\":[claim_id], \"evidence\":{claim_id:[{\"label\":\"CONTRADICT\", \"sentences\":[length]}]}})\n",
    "    claim_id += 1"
   ]
  },
  {
   "cell_type": "code",
   "execution_count": 8,
   "metadata": {},
   "outputs": [],
   "source": [
    "pos_claims.extend(neg_claims)"
   ]
  },
  {
   "cell_type": "code",
   "execution_count": 10,
   "metadata": {},
   "outputs": [],
   "source": [
    "with open(\"claims.json\", \"w\") as outfile:\n",
    "    json.dump(pos_claims, outfile)"
   ]
  },
  {
   "cell_type": "code",
   "execution_count": 10,
   "metadata": {},
   "outputs": [],
   "source": [
    "keys = list(positives.keys())\n"
   ]
  },
  {
   "cell_type": "code",
   "execution_count": 15,
   "metadata": {},
   "outputs": [],
   "source": [
    "import json\n",
    "with open('claims.json') as json_file:\n",
    "    claims = json.load(json_file)"
   ]
  },
  {
   "cell_type": "code",
   "execution_count": 16,
   "metadata": {},
   "outputs": [],
   "source": [
    "import random\n",
    "random.shuffle(claims)"
   ]
  },
  {
   "cell_type": "code",
   "execution_count": 11,
   "metadata": {},
   "outputs": [
    {
     "data": {
      "text/plain": [
       "10772"
      ]
     },
     "execution_count": 11,
     "metadata": {},
     "output_type": "execute_result"
    }
   ],
   "source": [
    "int(0.8*len(claims))"
   ]
  },
  {
   "cell_type": "code",
   "execution_count": 12,
   "metadata": {},
   "outputs": [
    {
     "data": {
      "text/plain": [
       "2694"
      ]
     },
     "execution_count": 12,
     "metadata": {},
     "output_type": "execute_result"
    }
   ],
   "source": [
    "len(claims)-10772"
   ]
  },
  {
   "cell_type": "code",
   "execution_count": 19,
   "metadata": {},
   "outputs": [],
   "source": [
    "train_claims = claims[:10772]\n",
    "dev_claims = claims[10773:12119]\n",
    "test_claims = claims[12119:]"
   ]
  },
  {
   "cell_type": "code",
   "execution_count": 20,
   "metadata": {},
   "outputs": [],
   "source": [
    "with open(\"train_claims.json\", \"w\") as outfile:\n",
    "    json.dump(train_claims, outfile)\n",
    "\n",
    "with open(\"dev_claims.json\", \"w\") as outfile:\n",
    "    json.dump(dev_claims, outfile)\n",
    "\n",
    "with open(\"test_claims.json\", \"w\") as outfile:\n",
    "    json.dump(test_claims, outfile)"
   ]
  }
 ],
 "metadata": {
  "kernelspec": {
   "display_name": "Code",
   "language": "python",
   "name": "python3"
  },
  "language_info": {
   "codemirror_mode": {
    "name": "ipython",
    "version": 3
   },
   "file_extension": ".py",
   "mimetype": "text/x-python",
   "name": "python",
   "nbconvert_exporter": "python",
   "pygments_lexer": "ipython3",
   "version": "3.10.0"
  },
  "orig_nbformat": 4
 },
 "nbformat": 4,
 "nbformat_minor": 2
}
